{
 "cells": [
  {
   "cell_type": "code",
   "execution_count": 11,
   "metadata": {
    "collapsed": true
   },
   "outputs": [],
   "source": [
    "import pandas as pd\n",
    "import pickle\n",
    "import numpy as np\n",
    "import torch"
   ]
  },
  {
   "cell_type": "code",
   "execution_count": 12,
   "metadata": {
    "collapsed": true
   },
   "outputs": [],
   "source": [
    "df = pd.read_csv('result/emsemble_val.csv')"
   ]
  },
  {
   "cell_type": "code",
   "execution_count": 13,
   "metadata": {},
   "outputs": [
    {
     "data": {
      "text/html": [
       "<div>\n",
       "<style>\n",
       "    .dataframe thead tr:only-child th {\n",
       "        text-align: right;\n",
       "    }\n",
       "\n",
       "    .dataframe thead th {\n",
       "        text-align: left;\n",
       "    }\n",
       "\n",
       "    .dataframe tbody tr th {\n",
       "        vertical-align: top;\n",
       "    }\n",
       "</style>\n",
       "<table border=\"1\" class=\"dataframe\">\n",
       "  <thead>\n",
       "    <tr style=\"text-align: right;\">\n",
       "      <th></th>\n",
       "      <th>query_id</th>\n",
       "      <th>query</th>\n",
       "      <th>passage</th>\n",
       "      <th>alternatives</th>\n",
       "      <th>answer</th>\n",
       "      <th>answer_pred</th>\n",
       "      <th>r_flag</th>\n",
       "    </tr>\n",
       "  </thead>\n",
       "  <tbody>\n",
       "    <tr>\n",
       "      <th>13576</th>\n",
       "      <td>263577</td>\n",
       "      <td>玉手镯有裂纹能养好吗</td>\n",
       "      <td>玉手镯，无论翡翠，和田，玛瑙等质地，都具有稳定的物理特性和制作赋予它的固定外形，它的颜色，纹...</td>\n",
       "      <td>不能|能|无法确定</td>\n",
       "      <td>不能</td>\n",
       "      <td>能</td>\n",
       "      <td>toupiao</td>\n",
       "    </tr>\n",
       "  </tbody>\n",
       "</table>\n",
       "</div>"
      ],
      "text/plain": [
       "       query_id       query  \\\n",
       "13576    263577  玉手镯有裂纹能养好吗   \n",
       "\n",
       "                                                 passage alternatives answer  \\\n",
       "13576  玉手镯，无论翡翠，和田，玛瑙等质地，都具有稳定的物理特性和制作赋予它的固定外形，它的颜色，纹...    不能|能|无法确定     不能   \n",
       "\n",
       "      answer_pred   r_flag  \n",
       "13576           能  toupiao  "
      ]
     },
     "execution_count": 13,
     "metadata": {},
     "output_type": "execute_result"
    }
   ],
   "source": [
    "df.sample()"
   ]
  },
  {
   "cell_type": "code",
   "execution_count": 14,
   "metadata": {},
   "outputs": [
    {
     "data": {
      "text/html": [
       "<div>\n",
       "<style>\n",
       "    .dataframe thead tr:only-child th {\n",
       "        text-align: right;\n",
       "    }\n",
       "\n",
       "    .dataframe thead th {\n",
       "        text-align: left;\n",
       "    }\n",
       "\n",
       "    .dataframe tbody tr th {\n",
       "        vertical-align: top;\n",
       "    }\n",
       "</style>\n",
       "<table border=\"1\" class=\"dataframe\">\n",
       "  <thead>\n",
       "    <tr style=\"text-align: right;\">\n",
       "      <th></th>\n",
       "      <th>query_id</th>\n",
       "      <th>query</th>\n",
       "      <th>passage</th>\n",
       "      <th>alternatives</th>\n",
       "      <th>answer</th>\n",
       "      <th>answer_pred</th>\n",
       "      <th>r_flag</th>\n",
       "    </tr>\n",
       "  </thead>\n",
       "  <tbody>\n",
       "    <tr>\n",
       "      <th>13911</th>\n",
       "      <td>263912</td>\n",
       "      <td>网贷会查询征信吗</td>\n",
       "      <td>大多数网贷公司都需要查征信的，有的平台让客户自己提供征信报告，有的平台要求可以提供征信账号密...</td>\n",
       "      <td>查询|不查询|无法确定</td>\n",
       "      <td>查询</td>\n",
       "      <td>查询</td>\n",
       "      <td>toupiao</td>\n",
       "    </tr>\n",
       "  </tbody>\n",
       "</table>\n",
       "</div>"
      ],
      "text/plain": [
       "       query_id     query                                            passage  \\\n",
       "13911    263912  网贷会查询征信吗  大多数网贷公司都需要查征信的，有的平台让客户自己提供征信报告，有的平台要求可以提供征信账号密...   \n",
       "\n",
       "      alternatives answer answer_pred   r_flag  \n",
       "13911  查询|不查询|无法确定     查询          查询  toupiao  "
      ]
     },
     "execution_count": 14,
     "metadata": {},
     "output_type": "execute_result"
    }
   ],
   "source": [
    "df.sample()"
   ]
  },
  {
   "cell_type": "code",
   "execution_count": 15,
   "metadata": {
    "collapsed": true
   },
   "outputs": [],
   "source": [
    "df_toupiao = df[df['r_flag'] == 'toupiao']\n",
    "toupiao_flag = []\n",
    "answers = df_toupiao['answer'].values\n",
    "answer_preds = df_toupiao['answer_pred'].values\n",
    "for a, a_p in zip(answers, answer_preds):\n",
    "    if a == a_p:\n",
    "        toupiao_flag.append(True)\n",
    "    else:\n",
    "        toupiao_flag.append(False)"
   ]
  },
  {
   "cell_type": "code",
   "execution_count": 20,
   "metadata": {},
   "outputs": [
    {
     "name": "stdout",
     "output_type": "stream",
     "text": [
      "0.8420911408255445\n"
     ]
    },
    {
     "data": {
      "text/plain": [
       "0.7453666666666666"
      ]
     },
     "execution_count": 20,
     "metadata": {},
     "output_type": "execute_result"
    }
   ],
   "source": [
    "print(sum(toupiao_flag)/len(toupiao_flag))\n",
    "len(toupiao_flag)/len(df)"
   ]
  },
  {
   "cell_type": "code",
   "execution_count": 17,
   "metadata": {},
   "outputs": [],
   "source": [
    "df_jiaquan = df[df['r_flag'] == 'jiaquan']\n",
    "jiaquan_flag = []\n",
    "answers = df_jiaquan['answer'].values\n",
    "answer_preds = df_jiaquan['answer_pred'].values\n",
    "for a, a_p in zip(answers, answer_preds):\n",
    "    if a == a_p:\n",
    "        jiaquan_flag.append(True)\n",
    "    else:\n",
    "        jiaquan_flag.append(False)"
   ]
  },
  {
   "cell_type": "code",
   "execution_count": 24,
   "metadata": {},
   "outputs": [
    {
     "name": "stdout",
     "output_type": "stream",
     "text": [
      "0.5486320198978923\n"
     ]
    },
    {
     "data": {
      "text/plain": [
       "0.2546333333333333"
      ]
     },
     "execution_count": 24,
     "metadata": {},
     "output_type": "execute_result"
    }
   ],
   "source": [
    "print(sum(jiaquan_flag)/len(jiaquan_flag))\n",
    "len(jiaquan_flag)/len(df)"
   ]
  },
  {
   "cell_type": "code",
   "execution_count": 25,
   "metadata": {},
   "outputs": [
    {
     "data": {
      "text/plain": [
       "0.7590999999999999"
      ]
     },
     "execution_count": 25,
     "metadata": {},
     "output_type": "execute_result"
    }
   ],
   "source": [
    "0.84*0.74+0.55*0.25\n"
   ]
  },
  {
   "cell_type": "code",
   "execution_count": 21,
   "metadata": {
    "collapsed": true
   },
   "outputs": [],
   "source": [
    "ans = ans_range.tolist()"
   ]
  }
 ],
 "metadata": {
  "kernelspec": {
   "display_name": "Python 3",
   "language": "python",
   "name": "python3"
  },
  "language_info": {
   "codemirror_mode": {
    "name": "ipython",
    "version": 3
   },
   "file_extension": ".py",
   "mimetype": "text/x-python",
   "name": "python",
   "nbconvert_exporter": "python",
   "pygments_lexer": "ipython3",
   "version": "3.6.2"
  }
 },
 "nbformat": 4,
 "nbformat_minor": 1
}
