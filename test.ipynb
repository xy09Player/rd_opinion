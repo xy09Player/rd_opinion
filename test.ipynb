{
 "cells": [
  {
   "cell_type": "code",
   "execution_count": 1,
   "metadata": {
    "collapsed": true
   },
   "outputs": [],
   "source": [
    "import pandas as pd\n",
    "import pickle\n",
    "import numpy as np\n",
    "import torch"
   ]
  },
  {
   "cell_type": "code",
   "execution_count": 2,
   "metadata": {
    "collapsed": true
   },
   "outputs": [],
   "source": [
    "df = pd.read_csv('result/emsemble_val.csv')"
   ]
  },
  {
   "cell_type": "code",
   "execution_count": 3,
   "metadata": {},
   "outputs": [
    {
     "data": {
      "text/html": [
       "<div>\n",
       "<style>\n",
       "    .dataframe thead tr:only-child th {\n",
       "        text-align: right;\n",
       "    }\n",
       "\n",
       "    .dataframe thead th {\n",
       "        text-align: left;\n",
       "    }\n",
       "\n",
       "    .dataframe tbody tr th {\n",
       "        vertical-align: top;\n",
       "    }\n",
       "</style>\n",
       "<table border=\"1\" class=\"dataframe\">\n",
       "  <thead>\n",
       "    <tr style=\"text-align: right;\">\n",
       "      <th></th>\n",
       "      <th>query_id</th>\n",
       "      <th>query</th>\n",
       "      <th>passage</th>\n",
       "      <th>alternatives</th>\n",
       "      <th>answer</th>\n",
       "      <th>answer_pred</th>\n",
       "      <th>r_flag</th>\n",
       "    </tr>\n",
       "  </thead>\n",
       "  <tbody>\n",
       "    <tr>\n",
       "      <th>21201</th>\n",
       "      <td>271202</td>\n",
       "      <td>爱眼贴和洗眼液哪个效果好</td>\n",
       "      <td>由于人们日常习惯的改变，外加洗眼液的普及，人们渐渐明白护眼的重要，开始用各种护眼产品，如“洗...</td>\n",
       "      <td>无法确认|爱眼贴|洗眼液</td>\n",
       "      <td>无法确认</td>\n",
       "      <td>爱眼贴</td>\n",
       "      <td>toupiao_32</td>\n",
       "    </tr>\n",
       "  </tbody>\n",
       "</table>\n",
       "</div>"
      ],
      "text/plain": [
       "       query_id         query  \\\n",
       "21201    271202  爱眼贴和洗眼液哪个效果好   \n",
       "\n",
       "                                                 passage  alternatives answer  \\\n",
       "21201  由于人们日常习惯的改变，外加洗眼液的普及，人们渐渐明白护眼的重要，开始用各种护眼产品，如“洗...  无法确认|爱眼贴|洗眼液   无法确认   \n",
       "\n",
       "      answer_pred      r_flag  \n",
       "21201         爱眼贴  toupiao_32  "
      ]
     },
     "execution_count": 3,
     "metadata": {},
     "output_type": "execute_result"
    }
   ],
   "source": [
    "df.sample()"
   ]
  },
  {
   "cell_type": "code",
   "execution_count": 4,
   "metadata": {},
   "outputs": [
    {
     "data": {
      "text/plain": [
       "toupiao_5      0.745367\n",
       "toupiao_41     0.133767\n",
       "toupiao_32     0.101833\n",
       "toupiao_311    0.010367\n",
       "toupiao_221    0.008667\n",
       "Name: r_flag, dtype: float64"
      ]
     },
     "execution_count": 4,
     "metadata": {},
     "output_type": "execute_result"
    }
   ],
   "source": [
    "df['r_flag'].value_counts()/len(df)"
   ]
  },
  {
   "cell_type": "code",
   "execution_count": 5,
   "metadata": {},
   "outputs": [
    {
     "data": {
      "text/plain": [
       "0.8420911408255445"
      ]
     },
     "execution_count": 5,
     "metadata": {},
     "output_type": "execute_result"
    }
   ],
   "source": [
    "df_toupiao_5 = df[df['r_flag'] == 'toupiao_5']\n",
    "answers = df_toupiao_5['answer'].values\n",
    "answer_preds = df_toupiao_5['answer_pred'].values\n",
    "flag_toupiao_5 = []\n",
    "for a, a_p in zip(answers, answer_preds):\n",
    "    if a == a_p:\n",
    "        flag_toupiao_5.append(True)\n",
    "    else:\n",
    "        flag_toupiao_5.append(False)\n",
    "sum(flag_toupiao_5)/len(flag_toupiao_5)"
   ]
  },
  {
   "cell_type": "code",
   "execution_count": 6,
   "metadata": {},
   "outputs": [
    {
     "data": {
      "text/plain": [
       "0.5955644156491403"
      ]
     },
     "execution_count": 6,
     "metadata": {},
     "output_type": "execute_result"
    }
   ],
   "source": [
    "df_toupiao_41 = df[df['r_flag'] == 'toupiao_41']\n",
    "answers = df_toupiao_41['answer'].values\n",
    "answer_preds = df_toupiao_41['answer_pred'].values\n",
    "flag_toupiao_41 = []\n",
    "for a, a_p in zip(answers, answer_preds):\n",
    "    if a == a_p:\n",
    "        flag_toupiao_41.append(True)\n",
    "    else:\n",
    "        flag_toupiao_41.append(False)\n",
    "sum(flag_toupiao_41)/len(flag_toupiao_41)"
   ]
  },
  {
   "cell_type": "code",
   "execution_count": 7,
   "metadata": {},
   "outputs": [
    {
     "data": {
      "text/plain": [
       "0.509328968903437"
      ]
     },
     "execution_count": 7,
     "metadata": {},
     "output_type": "execute_result"
    }
   ],
   "source": [
    "df_toupiao_32 = df[df['r_flag'] == 'toupiao_32']\n",
    "answers = df_toupiao_32['answer'].values\n",
    "answer_preds = df_toupiao_32['answer_pred'].values\n",
    "flag_toupiao_32 = []\n",
    "for a, a_p in zip(answers, answer_preds):\n",
    "    if a == a_p:\n",
    "        flag_toupiao_32.append(True)\n",
    "    else:\n",
    "        flag_toupiao_32.append(False)\n",
    "sum(flag_toupiao_32)/len(flag_toupiao_32)"
   ]
  },
  {
   "cell_type": "code",
   "execution_count": 8,
   "metadata": {},
   "outputs": [
    {
     "data": {
      "text/plain": [
       "0.45980707395498394"
      ]
     },
     "execution_count": 8,
     "metadata": {},
     "output_type": "execute_result"
    }
   ],
   "source": [
    "df_toupiao_311 = df[df['r_flag'] == 'toupiao_311']\n",
    "answers = df_toupiao_311['answer'].values\n",
    "answer_preds = df_toupiao_311['answer_pred'].values\n",
    "flag_toupiao_311 = []\n",
    "for a, a_p in zip(answers, answer_preds):\n",
    "    if a == a_p:\n",
    "        flag_toupiao_311.append(True)\n",
    "    else:\n",
    "        flag_toupiao_311.append(False)\n",
    "sum(flag_toupiao_311)/len(flag_toupiao_311)"
   ]
  },
  {
   "cell_type": "code",
   "execution_count": 9,
   "metadata": {},
   "outputs": [
    {
     "name": "stdout",
     "output_type": "stream",
     "text": [
      "acc 0.3038461538461538\n"
     ]
    },
    {
     "data": {
      "text/plain": [
       "0.7076923076923077"
      ]
     },
     "execution_count": 9,
     "metadata": {},
     "output_type": "execute_result"
    }
   ],
   "source": [
    "df_toupiao_221 = df[df['r_flag'] == 'toupiao_221']\n",
    "answers = df_toupiao_221['answer'].values\n",
    "answer_preds = df_toupiao_221['answer_pred'].values\n",
    "flag_toupiao_221 = []\n",
    "flag_num = []\n",
    "for a, a_p in zip(answers, answer_preds):\n",
    "    if a == '无法确定':\n",
    "        flag_num.append(False)\n",
    "    else:\n",
    "        flag_num.append(True)\n",
    "    \n",
    "    if a == a_p:\n",
    "        flag_toupiao_221.append(True)\n",
    "    else:\n",
    "        flag_toupiao_221.append(False)\n",
    "#         print('a:%s, a_pred:%s' % (a, a_p))\n",
    "print('acc', sum(flag_toupiao_221)/len(flag_toupiao_221))\n",
    "sum(flag_num)/len(flag_num)"
   ]
  },
  {
   "cell_type": "code",
   "execution_count": null,
   "metadata": {
    "collapsed": true
   },
   "outputs": [],
   "source": []
  },
  {
   "cell_type": "code",
   "execution_count": null,
   "metadata": {
    "collapsed": true
   },
   "outputs": [],
   "source": []
  },
  {
   "cell_type": "code",
   "execution_count": null,
   "metadata": {
    "collapsed": true
   },
   "outputs": [],
   "source": []
  },
  {
   "cell_type": "code",
   "execution_count": null,
   "metadata": {
    "collapsed": true
   },
   "outputs": [],
   "source": []
  },
  {
   "cell_type": "code",
   "execution_count": null,
   "metadata": {
    "collapsed": true
   },
   "outputs": [],
   "source": []
  },
  {
   "cell_type": "code",
   "execution_count": null,
   "metadata": {
    "collapsed": true
   },
   "outputs": [],
   "source": []
  },
  {
   "cell_type": "code",
   "execution_count": 11,
   "metadata": {
    "collapsed": true
   },
   "outputs": [],
   "source": [
    "df_toupiao = df[df['r_flag'] == 'toupiao']\n",
    "toupiao_flag = []\n",
    "answers = df_toupiao['answer'].values\n",
    "answer_preds = df_toupiao['answer_pred'].values\n",
    "for a, a_p in zip(answers, answer_preds):\n",
    "    if a == a_p:\n",
    "        toupiao_flag.append(True)\n",
    "    else:\n",
    "        toupiao_flag.append(False)"
   ]
  },
  {
   "cell_type": "code",
   "execution_count": 12,
   "metadata": {},
   "outputs": [
    {
     "ename": "ZeroDivisionError",
     "evalue": "division by zero",
     "output_type": "error",
     "traceback": [
      "\u001b[0;31m---------------------------------------------------------------------------\u001b[0m",
      "\u001b[0;31mZeroDivisionError\u001b[0m                         Traceback (most recent call last)",
      "\u001b[0;32m<ipython-input-12-5b49a5fcd91e>\u001b[0m in \u001b[0;36m<module>\u001b[0;34m()\u001b[0m\n\u001b[0;32m----> 1\u001b[0;31m \u001b[0mprint\u001b[0m\u001b[0;34m(\u001b[0m\u001b[0msum\u001b[0m\u001b[0;34m(\u001b[0m\u001b[0mtoupiao_flag\u001b[0m\u001b[0;34m)\u001b[0m\u001b[0;34m/\u001b[0m\u001b[0mlen\u001b[0m\u001b[0;34m(\u001b[0m\u001b[0mtoupiao_flag\u001b[0m\u001b[0;34m)\u001b[0m\u001b[0;34m)\u001b[0m\u001b[0;34m\u001b[0m\u001b[0m\n\u001b[0m\u001b[1;32m      2\u001b[0m \u001b[0mlen\u001b[0m\u001b[0;34m(\u001b[0m\u001b[0mtoupiao_flag\u001b[0m\u001b[0;34m)\u001b[0m\u001b[0;34m/\u001b[0m\u001b[0mlen\u001b[0m\u001b[0;34m(\u001b[0m\u001b[0mdf\u001b[0m\u001b[0;34m)\u001b[0m\u001b[0;34m\u001b[0m\u001b[0m\n",
      "\u001b[0;31mZeroDivisionError\u001b[0m: division by zero"
     ]
    }
   ],
   "source": [
    "print(sum(toupiao_flag)/len(toupiao_flag))\n",
    "len(toupiao_flag)/len(df)"
   ]
  },
  {
   "cell_type": "code",
   "execution_count": null,
   "metadata": {},
   "outputs": [],
   "source": [
    "df_jiaquan = df[df['r_flag'] == 'jiaquan']\n",
    "jiaquan_flag = []\n",
    "answers = df_jiaquan['answer'].values\n",
    "answer_preds = df_jiaquan['answer_pred'].values\n",
    "for a, a_p in zip(answers, answer_preds):\n",
    "    if a == a_p:\n",
    "        jiaquan_flag.append(True)\n",
    "    else:\n",
    "        jiaquan_flag.append(False)"
   ]
  },
  {
   "cell_type": "code",
   "execution_count": null,
   "metadata": {},
   "outputs": [],
   "source": [
    "print(sum(jiaquan_flag)/len(jiaquan_flag))\n",
    "len(jiaquan_flag)/len(df)"
   ]
  },
  {
   "cell_type": "code",
   "execution_count": null,
   "metadata": {},
   "outputs": [],
   "source": [
    "0.84*0.74+0.55*0.25\n"
   ]
  },
  {
   "cell_type": "code",
   "execution_count": null,
   "metadata": {
    "collapsed": true
   },
   "outputs": [],
   "source": [
    "ans = ans_range.tolist()"
   ]
  }
 ],
 "metadata": {
  "kernelspec": {
   "display_name": "Python 3",
   "language": "python",
   "name": "python3"
  },
  "language_info": {
   "codemirror_mode": {
    "name": "ipython",
    "version": 3
   },
   "file_extension": ".py",
   "mimetype": "text/x-python",
   "name": "python",
   "nbconvert_exporter": "python",
   "pygments_lexer": "ipython3",
   "version": "3.6.2"
  }
 },
 "nbformat": 4,
 "nbformat_minor": 1
}
