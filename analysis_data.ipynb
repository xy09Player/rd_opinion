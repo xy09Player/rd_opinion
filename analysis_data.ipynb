{
 "cells": [
  {
   "cell_type": "code",
   "execution_count": 1,
   "metadata": {
    "collapsed": true
   },
   "outputs": [],
   "source": [
    "from data_pre import clean_data\n",
    "from data_pre import wfqd\n",
    "import json\n",
    "import pandas as pd\n",
    "import numpy as np\n",
    "from rouge import Rouge\n",
    "import sys\n",
    "import os\n",
    "import utils\n",
    "import pickle\n",
    "import time\n",
    "import gensim\n",
    "from config import config_base\n",
    "from preprocess_data import *\n",
    "\n",
    "config = config_base.config"
   ]
  },
  {
   "cell_type": "code",
   "execution_count": 2,
   "metadata": {},
   "outputs": [
    {
     "name": "stdout",
     "output_type": "stream",
     "text": [
      "gen train prepared file...\n"
     ]
    },
    {
     "name": "stderr",
     "output_type": "stream",
     "text": [
      "Building prefix dict from the default dictionary ...\n",
      "Loading model from cache /tmp/jieba.cache\n",
      "Loading model cost 0.425 seconds.\n",
      "Prefix dict has been built succesfully.\n"
     ]
    },
    {
     "name": "stdout",
     "output_type": "stream",
     "text": [
      "data, word_nums:164241\n",
      "word_nums in pre-embedding:138630/164241, ratio:0.8441\n",
      "vacab length: 138633\n",
      "embedding size: (138633, 300)\n",
      "word flag num:58\n",
      "gen train prepared file, time:422\n"
     ]
    }
   ],
   "source": [
    "gen_pre_file_for_train()"
   ]
  },
  {
   "cell_type": "code",
   "execution_count": 3,
   "metadata": {
    "collapsed": true
   },
   "outputs": [],
   "source": [
    "df = organize_data(config.train_data)"
   ]
  },
  {
   "cell_type": "code",
   "execution_count": 5,
   "metadata": {
    "collapsed": true
   },
   "outputs": [],
   "source": [
    "df = deal_data(df)"
   ]
  },
  {
   "cell_type": "code",
   "execution_count": 6,
   "metadata": {},
   "outputs": [
    {
     "name": "stdout",
     "output_type": "stream",
     "text": [
      "训练/验证集，正负例， 保留样本_num:249627/250000, ratio:0.9985\n"
     ]
    }
   ],
   "source": [
    "df = zheng_fu_li(df, is_test=False)"
   ]
  },
  {
   "cell_type": "code",
   "execution_count": 7,
   "metadata": {},
   "outputs": [
    {
     "name": "stdout",
     "output_type": "stream",
     "text": [
      "passage len, max:14669, min:3, avg:53.82\n",
      "shorten passage len, max:3211, min:3, avg:49.45\n",
      "shorten type, type_1:0.8399, type_2:0.1159, type_3:0.0280, type_3+:0.0162\n"
     ]
    }
   ],
   "source": [
    "df = shorten_p(df, sentence_num=config.shorten_sentence_num)"
   ]
  },
  {
   "cell_type": "code",
   "execution_count": 15,
   "metadata": {},
   "outputs": [
    {
     "data": {
      "text/plain": [
       "6932                                    2018支付宝反洗钱技术java工程师\n",
       "63896                                GTX650综合性能明显优于GTX550TI\n",
       "67020                                 iphonex和iphone7充电器随便用\n",
       "71910                                   thinkpad e450支持蓝牙功能\n",
       "79645                                  英国曼彻斯特大学电气工程及其自动化专业。\n",
       "88978                                mate7支持128GmicroSD卡拓展。\n",
       "90004                                  时clock分minute秒second\n",
       "94153                                   iPadPro还不支持3DTouch。\n",
       "102475                                  iphonewatch看电影体验很一般\n",
       "125486                                            昨天用烤箱烤鸡翅。\n",
       "127025                                           大车不能用摩托车的。\n",
       "145218                               win7系统最好不用autocad2014。\n",
       "157882                                  2018=2x10092018是偶数。\n",
       "183906                            例如:That'swhoyoushouldask。\n",
       "190579                                              。有图有真相！\n",
       "197312                                  小苏打NaHCO3、食用碱NA2CO3\n",
       "224320                     theEarthmoviesaroundtheSun主语+单三。\n",
       "240207    可数名词：makeaplanfortheholiday.Whatareyourplansfo...\n",
       "243135                                刚收到建行106980095533发来短信\n",
       "Name: passage, dtype: object"
      ]
     },
     "execution_count": 15,
     "metadata": {},
     "output_type": "execute_result"
    }
   ],
   "source": [
    "df[df['shorten_p_len'] == 6]['passage']"
   ]
  },
  {
   "cell_type": "code",
   "execution_count": null,
   "metadata": {
    "collapsed": true
   },
   "outputs": [],
   "source": []
  },
  {
   "cell_type": "code",
   "execution_count": null,
   "metadata": {
    "collapsed": true
   },
   "outputs": [],
   "source": []
  },
  {
   "cell_type": "code",
   "execution_count": null,
   "metadata": {
    "collapsed": true
   },
   "outputs": [],
   "source": []
  },
  {
   "cell_type": "code",
   "execution_count": 8,
   "metadata": {},
   "outputs": [
    {
     "data": {
      "text/html": [
       "<div>\n",
       "<style>\n",
       "    .dataframe thead tr:only-child th {\n",
       "        text-align: right;\n",
       "    }\n",
       "\n",
       "    .dataframe thead th {\n",
       "        text-align: left;\n",
       "    }\n",
       "\n",
       "    .dataframe tbody tr th {\n",
       "        vertical-align: top;\n",
       "    }\n",
       "</style>\n",
       "<table border=\"1\" class=\"dataframe\">\n",
       "  <thead>\n",
       "    <tr style=\"text-align: right;\">\n",
       "      <th></th>\n",
       "      <th>query_id</th>\n",
       "      <th>query</th>\n",
       "      <th>passage</th>\n",
       "      <th>alternatives</th>\n",
       "      <th>answer</th>\n",
       "      <th>zhengli</th>\n",
       "      <th>fuli</th>\n",
       "      <th>zf_flag</th>\n",
       "      <th>wfqd</th>\n",
       "      <th>shorten_p_len</th>\n",
       "      <th>shorten_type</th>\n",
       "    </tr>\n",
       "  </thead>\n",
       "  <tbody>\n",
       "    <tr>\n",
       "      <th>110190</th>\n",
       "      <td>110191</td>\n",
       "      <td>排过痘痘的皮肤可以拍化妆水吗</td>\n",
       "      <td>爽肤水是比较基础的化妆水类型。一些商家提出的新叫法，例如醒肤水、焕肤水、洁肤水其实本质上都属...</td>\n",
       "      <td>无法确定|可以|不可以</td>\n",
       "      <td>无法确定</td>\n",
       "      <td>可以</td>\n",
       "      <td>不可以</td>\n",
       "      <td>True</td>\n",
       "      <td>无法确定</td>\n",
       "      <td>66</td>\n",
       "      <td>1.0</td>\n",
       "    </tr>\n",
       "  </tbody>\n",
       "</table>\n",
       "</div>"
      ],
      "text/plain": [
       "        query_id           query  \\\n",
       "110190    110191  排过痘痘的皮肤可以拍化妆水吗   \n",
       "\n",
       "                                                  passage alternatives answer  \\\n",
       "110190  爽肤水是比较基础的化妆水类型。一些商家提出的新叫法，例如醒肤水、焕肤水、洁肤水其实本质上都属...  无法确定|可以|不可以   无法确定   \n",
       "\n",
       "       zhengli fuli  zf_flag  wfqd  shorten_p_len  shorten_type  \n",
       "110190      可以  不可以     True  无法确定             66           1.0  "
      ]
     },
     "execution_count": 8,
     "metadata": {},
     "output_type": "execute_result"
    }
   ],
   "source": [
    "df.sample()"
   ]
  },
  {
   "cell_type": "code",
   "execution_count": null,
   "metadata": {
    "collapsed": true
   },
   "outputs": [],
   "source": []
  },
  {
   "cell_type": "code",
   "execution_count": null,
   "metadata": {
    "collapsed": true
   },
   "outputs": [],
   "source": []
  },
  {
   "cell_type": "code",
   "execution_count": null,
   "metadata": {
    "collapsed": true
   },
   "outputs": [],
   "source": []
  },
  {
   "cell_type": "code",
   "execution_count": null,
   "metadata": {
    "collapsed": true
   },
   "outputs": [],
   "source": []
  },
  {
   "cell_type": "code",
   "execution_count": null,
   "metadata": {
    "collapsed": true
   },
   "outputs": [],
   "source": []
  },
  {
   "cell_type": "code",
   "execution_count": null,
   "metadata": {
    "collapsed": true
   },
   "outputs": [],
   "source": []
  },
  {
   "cell_type": "code",
   "execution_count": null,
   "metadata": {
    "collapsed": true
   },
   "outputs": [],
   "source": []
  },
  {
   "cell_type": "code",
   "execution_count": null,
   "metadata": {
    "collapsed": true
   },
   "outputs": [],
   "source": []
  },
  {
   "cell_type": "code",
   "execution_count": null,
   "metadata": {
    "collapsed": true
   },
   "outputs": [],
   "source": []
  }
 ],
 "metadata": {
  "kernelspec": {
   "display_name": "Python 3",
   "language": "python",
   "name": "python3"
  },
  "language_info": {
   "codemirror_mode": {
    "name": "ipython",
    "version": 3
   },
   "file_extension": ".py",
   "mimetype": "text/x-python",
   "name": "python",
   "nbconvert_exporter": "python",
   "pygments_lexer": "ipython3",
   "version": "3.6.2"
  }
 },
 "nbformat": 4,
 "nbformat_minor": 2
}
