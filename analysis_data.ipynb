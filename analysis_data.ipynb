{
 "cells": [
  {
   "cell_type": "code",
   "execution_count": 15,
   "metadata": {
    "collapsed": true
   },
   "outputs": [],
   "source": [
    "import json\n",
    "from data_pre import trans_helper"
   ]
  },
  {
   "cell_type": "code",
   "execution_count": 10,
   "metadata": {},
   "outputs": [],
   "source": [
    "with open('train_merge_fff_6.json', 'r', encoding='utf-8') as file:\n",
    "    data = json.load(file)"
   ]
  },
  {
   "cell_type": "code",
   "execution_count": 12,
   "metadata": {},
   "outputs": [],
   "source": [
    "data_tmp = []\n",
    "for d in data:\n",
    "    if d['flag'] is False:\n",
    "        data_tmp.append(d)"
   ]
  },
  {
   "cell_type": "code",
   "execution_count": 13,
   "metadata": {},
   "outputs": [
    {
     "data": {
      "text/plain": [
       "{'url': 'http://wenwen.sogou.com/z/q769330529.htm',\n",
       " 'alternatives': '无法确定|好|不好',\n",
       " 'passage': '楼层方面的考虑：1.高层住宅的总层数。2.对高层住宅的环境要求。3.生活的便利程度。4.无论选择哪一层，采光摆在首位。5.家庭人数及健康情况。其他考量：1、注意户型格局的选择。大多数高层住宅都是采用框架结构形式，往往一层对称布置6～8户，这样就会出现南向房和北向房，有的甚至是只有西向窗户的小居室，再加上有些室内隔墙是现浇混凝土，不能打通，户型格局不易改变。所以在挑选此类高层单位时，要充分考虑入住后的舒适程度，关键是要让自己住得舒服、满意。2、注意观察景观，尤其是在挑选顶层或较高楼层时，不仅要特别注意朝向景观，还要考虑周边地区未来规划，如果您现在风景不错的窗前还要再建几幢高楼，风景将会被遮挡。3、注意整幢楼的总户数与电梯数量，电梯的质量与运行速度也很重要。一般情况下，24层以上住宅都就配备3部电梯。4、向发展商咨询楼层的供水、水压、夏季是否会断水等多方面情况。一般高层住宅在顶层都建有水箱，先将水抽到顶层再往下供，使高层住户不会因压力不足用不上水。5、高层物业管理不能忽视，尤其是监控保安措施。大楼底层是否设置值班警卫室，是否有保安在楼内巡视。6、考虑车位问题。在购房时，即使是目前无车的住户也应做好提前打算，因为未来很有可能车位比房价还贵。',\n",
       " 'query_id': 85201,\n",
       " 'answer': '无法确定',\n",
       " 'query': '34层的房子30层好不好',\n",
       " 'flag': False}"
      ]
     },
     "execution_count": 13,
     "metadata": {},
     "output_type": "execute_result"
    }
   ],
   "source": [
    "data_tmp[0]"
   ]
  },
  {
   "cell_type": "code",
   "execution_count": 17,
   "metadata": {
    "collapsed": true
   },
   "outputs": [],
   "source": [
    "passage = data_tmp[0]['passage']"
   ]
  },
  {
   "cell_type": "code",
   "execution_count": 20,
   "metadata": {},
   "outputs": [],
   "source": [
    "passage_en, flag_en = trans_helper.xiaoniu_translate(passage, 'zh', 'en', '57f5f10c107ad049ab73e1526a282d75')"
   ]
  },
  {
   "cell_type": "code",
   "execution_count": 22,
   "metadata": {},
   "outputs": [],
   "source": [
    "passage_zh, flag_zh = trans_helper.xiaoniu_translate(passage_en, 'en', 'zh', '57f5f10c107ad049ab73e1526a282d75')"
   ]
  },
  {
   "cell_type": "code",
   "execution_count": 26,
   "metadata": {},
   "outputs": [],
   "source": [
    "passage_list = passage.split('。')"
   ]
  },
  {
   "cell_type": "code",
   "execution_count": 30,
   "metadata": {},
   "outputs": [],
   "source": [
    "result = []\n",
    "flag = True\n",
    "for p in passage_list:\n",
    "    if p.strip() == '':\n",
    "        continue\n",
    "    p_en, p_flag_en = trans_helper.xiaoniu_translate(p, 'zh', 'en', '57f5f10c107ad049ab73e1526a282d75')\n",
    "    p_zh, p_flag_zh = trans_helper.xiaoniu_translate(p_en, 'en', 'zh', '57f5f10c107ad049ab73e1526a282d75')\n",
    "    result.append(p_zh)\n",
    "    if p_flag_en + p_flag_zh != 0:\n",
    "        print('p',p)\n",
    "        print(p_en)\n",
    "        print(p_zh)"
   ]
  },
  {
   "cell_type": "code",
   "execution_count": null,
   "metadata": {
    "collapsed": true
   },
   "outputs": [],
   "source": []
  },
  {
   "cell_type": "code",
   "execution_count": 40,
   "metadata": {},
   "outputs": [
    {
     "data": {
      "text/plain": [
       "('xxx', 1)"
      ]
     },
     "execution_count": 40,
     "metadata": {},
     "output_type": "execute_result"
    }
   ],
   "source": [
    "trans_helper.baidu_translate('', 'zh', 'en', '20181106000230594', 'BhhE3YU6bsaK3lPNkgOP')"
   ]
  },
  {
   "cell_type": "code",
   "execution_count": null,
   "metadata": {
    "collapsed": true
   },
   "outputs": [],
   "source": []
  },
  {
   "cell_type": "code",
   "execution_count": null,
   "metadata": {
    "collapsed": true
   },
   "outputs": [],
   "source": []
  },
  {
   "cell_type": "code",
   "execution_count": null,
   "metadata": {
    "collapsed": true
   },
   "outputs": [],
   "source": []
  },
  {
   "cell_type": "code",
   "execution_count": null,
   "metadata": {
    "collapsed": true
   },
   "outputs": [],
   "source": []
  },
  {
   "cell_type": "code",
   "execution_count": null,
   "metadata": {
    "collapsed": true
   },
   "outputs": [],
   "source": []
  },
  {
   "cell_type": "code",
   "execution_count": null,
   "metadata": {
    "collapsed": true
   },
   "outputs": [],
   "source": []
  }
 ],
 "metadata": {
  "kernelspec": {
   "display_name": "Python 3",
   "language": "python",
   "name": "python3"
  },
  "language_info": {
   "codemirror_mode": {
    "name": "ipython",
    "version": 3
   },
   "file_extension": ".py",
   "mimetype": "text/x-python",
   "name": "python",
   "nbconvert_exporter": "python",
   "pygments_lexer": "ipython3",
   "version": "3.6.2"
  }
 },
 "nbformat": 4,
 "nbformat_minor": 2
}
