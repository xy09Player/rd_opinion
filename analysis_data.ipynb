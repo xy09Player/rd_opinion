{
 "cells": [
  {
   "cell_type": "code",
   "execution_count": 1,
   "metadata": {
    "collapsed": true
   },
   "outputs": [],
   "source": [
    "import json"
   ]
  },
  {
   "cell_type": "code",
   "execution_count": 8,
   "metadata": {
    "collapsed": true
   },
   "outputs": [],
   "source": [
    "with open('data/train/train_c.json', 'r', encoding='utf-8') as file:\n",
    "    data = json.load(file)"
   ]
  },
  {
   "cell_type": "code",
   "execution_count": 9,
   "metadata": {},
   "outputs": [
    {
     "data": {
      "text/plain": [
       "{'url': 'http://iask.sina.com.cn/key/5a73101384ae262303cef1ab.html',\n",
       " 'alternatives': '无法确定|是|不是',\n",
       " 'passage': '孩子是父母的一面镜子。由于儿童的世界观还没有形成，他们的模仿有很大的盲目性，所以父母最好照顾他们。除非迫不得已，否则千万不要把早教课等问题留给保姆。他们应该对自己的日常生活负责。',\n",
       " 'query_id': 1,\n",
       " 'answer': '无法确定',\n",
       " 'query': '你的孩子是保姆带大的么',\n",
       " 'flag': True}"
      ]
     },
     "execution_count": 9,
     "metadata": {},
     "output_type": "execute_result"
    }
   ],
   "source": [
    "data[0]"
   ]
  },
  {
   "cell_type": "code",
   "execution_count": null,
   "metadata": {
    "collapsed": true
   },
   "outputs": [],
   "source": []
  },
  {
   "cell_type": "code",
   "execution_count": 10,
   "metadata": {},
   "outputs": [
    {
     "name": "stdout",
     "output_type": "stream",
     "text": [
      "{'url': 'http://iask.sina.com.cn/key/5a73101384ae262303cef1ab.html', 'alternatives': '无法确定|是|不是', 'passage': '孩子是父母的一面镜子，由于儿童的世界观尚未形成，他们的模仿带有很大的盲目性，所以还是父母带好。除非万不得已，绝对不能把上早教课等教育问题交给保姆，她们负责生活起居就好了，树立孩子一生的良好习惯，家长们可千万不能大意。', 'query_id': 1, 'answer': '无法确定', 'query': '你的孩子是保姆带大的么'}\n"
     ]
    }
   ],
   "source": [
    "with open('data/train/train.json', 'r', encoding='utf-8') as file:\n",
    "    c = 0\n",
    "    for s in file.readlines():\n",
    "        if c == 0:\n",
    "            s = json.loads(s)\n",
    "            print(s)\n",
    "            break"
   ]
  },
  {
   "cell_type": "code",
   "execution_count": null,
   "metadata": {
    "collapsed": true
   },
   "outputs": [],
   "source": []
  },
  {
   "cell_type": "code",
   "execution_count": null,
   "metadata": {
    "collapsed": true
   },
   "outputs": [],
   "source": []
  },
  {
   "cell_type": "code",
   "execution_count": null,
   "metadata": {
    "collapsed": true
   },
   "outputs": [],
   "source": []
  },
  {
   "cell_type": "code",
   "execution_count": null,
   "metadata": {
    "collapsed": true
   },
   "outputs": [],
   "source": []
  },
  {
   "cell_type": "code",
   "execution_count": null,
   "metadata": {
    "collapsed": true
   },
   "outputs": [],
   "source": []
  }
 ],
 "metadata": {
  "kernelspec": {
   "display_name": "Python 3",
   "language": "python",
   "name": "python3"
  },
  "language_info": {
   "codemirror_mode": {
    "name": "ipython",
    "version": 3
   },
   "file_extension": ".py",
   "mimetype": "text/x-python",
   "name": "python",
   "nbconvert_exporter": "python",
   "pygments_lexer": "ipython3",
   "version": "3.6.2"
  }
 },
 "nbformat": 4,
 "nbformat_minor": 2
}
