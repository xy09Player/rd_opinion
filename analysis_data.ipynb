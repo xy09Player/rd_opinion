{
 "cells": [
  {
   "cell_type": "code",
   "execution_count": 1,
   "metadata": {
    "collapsed": true
   },
   "outputs": [],
   "source": [
    "from data_pre import clean_data\n",
    "from data_pre import wfqd\n",
    "import json\n",
    "import pandas as pd\n",
    "import numpy as np\n",
    "from rouge import Rouge\n",
    "import sys\n",
    "import os\n",
    "import utils\n",
    "import pickle\n",
    "import time\n",
    "import gensim\n",
    "from config import config_base\n",
    "from preprocess_data import *\n",
    "\n",
    "config = config_base.config"
   ]
  },
  {
   "cell_type": "code",
   "execution_count": 2,
   "metadata": {
    "collapsed": true
   },
   "outputs": [],
   "source": [
    "df = pd.read_csv('data_gen/train_df.csv')"
   ]
  },
  {
   "cell_type": "code",
   "execution_count": 3,
   "metadata": {},
   "outputs": [
    {
     "data": {
      "text/html": [
       "<div>\n",
       "<style>\n",
       "    .dataframe thead tr:only-child th {\n",
       "        text-align: right;\n",
       "    }\n",
       "\n",
       "    .dataframe thead th {\n",
       "        text-align: left;\n",
       "    }\n",
       "\n",
       "    .dataframe tbody tr th {\n",
       "        vertical-align: top;\n",
       "    }\n",
       "</style>\n",
       "<table border=\"1\" class=\"dataframe\">\n",
       "  <thead>\n",
       "    <tr style=\"text-align: right;\">\n",
       "      <th></th>\n",
       "      <th>query_id</th>\n",
       "      <th>query</th>\n",
       "      <th>passage</th>\n",
       "      <th>alternatives</th>\n",
       "      <th>answer</th>\n",
       "      <th>zhengli</th>\n",
       "      <th>fuli</th>\n",
       "      <th>zf_flag</th>\n",
       "      <th>wfqd</th>\n",
       "      <th>jieduan_flag</th>\n",
       "    </tr>\n",
       "  </thead>\n",
       "  <tbody>\n",
       "    <tr>\n",
       "      <th>247854</th>\n",
       "      <td>248713</td>\n",
       "      <td>宝宝动的历害好吗</td>\n",
       "      <td>要是突然胎动频繁的话就不好的哦，这个可能是胎儿缺氧的原因的，需要及时的看医生的哦</td>\n",
       "      <td>不好|好|无法确定</td>\n",
       "      <td>不好</td>\n",
       "      <td>好</td>\n",
       "      <td>不好</td>\n",
       "      <td>True</td>\n",
       "      <td>无法确定</td>\n",
       "      <td>True</td>\n",
       "    </tr>\n",
       "  </tbody>\n",
       "</table>\n",
       "</div>"
      ],
      "text/plain": [
       "        query_id     query                                   passage  \\\n",
       "247854    248713  宝宝动的历害好吗  要是突然胎动频繁的话就不好的哦，这个可能是胎儿缺氧的原因的，需要及时的看医生的哦   \n",
       "\n",
       "       alternatives answer zhengli fuli  zf_flag  wfqd  jieduan_flag  \n",
       "247854    不好|好|无法确定     不好       好   不好     True  无法确定          True  "
      ]
     },
     "execution_count": 3,
     "metadata": {},
     "output_type": "execute_result"
    }
   ],
   "source": [
    "df.sample()"
   ]
  },
  {
   "cell_type": "code",
   "execution_count": 4,
   "metadata": {},
   "outputs": [
    {
     "name": "stderr",
     "output_type": "stream",
     "text": [
      "Building prefix dict from the default dictionary ...\n",
      "Loading model from cache /tmp/jieba.cache\n",
      "Loading model cost 0.463 seconds.\n",
      "Prefix dict has been built succesfully.\n"
     ]
    },
    {
     "name": "stdout",
     "output_type": "stream",
     "text": [
      "shorten type, type_1:0.8405, type_2:0.1158, type_3:0.0279, type_3+:0.0158\n",
      "shorten passage len, max:497, min:3, avg:48.79\n"
     ]
    }
   ],
   "source": [
    "df = shorten_p(df)"
   ]
  },
  {
   "cell_type": "code",
   "execution_count": 112,
   "metadata": {},
   "outputs": [
    {
     "data": {
      "text/html": [
       "<div>\n",
       "<style>\n",
       "    .dataframe thead tr:only-child th {\n",
       "        text-align: right;\n",
       "    }\n",
       "\n",
       "    .dataframe thead th {\n",
       "        text-align: left;\n",
       "    }\n",
       "\n",
       "    .dataframe tbody tr th {\n",
       "        vertical-align: top;\n",
       "    }\n",
       "</style>\n",
       "<table border=\"1\" class=\"dataframe\">\n",
       "  <thead>\n",
       "    <tr style=\"text-align: right;\">\n",
       "      <th></th>\n",
       "      <th>query_id</th>\n",
       "      <th>query</th>\n",
       "      <th>passage</th>\n",
       "      <th>alternatives</th>\n",
       "      <th>answer</th>\n",
       "      <th>zhengli</th>\n",
       "      <th>fuli</th>\n",
       "      <th>zf_flag</th>\n",
       "      <th>wfqd</th>\n",
       "      <th>jieduan_flag</th>\n",
       "      <th>shorten_p</th>\n",
       "      <th>shorten_type</th>\n",
       "      <th>shorten_p_len</th>\n",
       "    </tr>\n",
       "  </thead>\n",
       "  <tbody>\n",
       "    <tr>\n",
       "      <th>240615</th>\n",
       "      <td>241438</td>\n",
       "      <td>宝宝八个半月了早上吃炖鸡蛋好吗</td>\n",
       "      <td>宝宝八个月了早上，建议只吃蛋黄不要吃蛋清。此时宝宝的消化酶已经可以充分消化蛋白质了，所需蛋白...</td>\n",
       "      <td>好|不好|无法确定</td>\n",
       "      <td>好</td>\n",
       "      <td>好</td>\n",
       "      <td>不好</td>\n",
       "      <td>True</td>\n",
       "      <td>无法确定</td>\n",
       "      <td>True</td>\n",
       "      <td>宝宝八个月了早上，建议只吃蛋黄不要吃蛋清。此时宝宝的消化酶已经可以充分消化蛋白质了，所需蛋白...</td>\n",
       "      <td>1.0</td>\n",
       "      <td>38</td>\n",
       "    </tr>\n",
       "  </tbody>\n",
       "</table>\n",
       "</div>"
      ],
      "text/plain": [
       "        query_id            query  \\\n",
       "240615    241438  宝宝八个半月了早上吃炖鸡蛋好吗   \n",
       "\n",
       "                                                  passage alternatives answer  \\\n",
       "240615  宝宝八个月了早上，建议只吃蛋黄不要吃蛋清。此时宝宝的消化酶已经可以充分消化蛋白质了，所需蛋白...    好|不好|无法确定      好   \n",
       "\n",
       "       zhengli fuli  zf_flag  wfqd  jieduan_flag  \\\n",
       "240615       好   不好     True  无法确定          True   \n",
       "\n",
       "                                                shorten_p  shorten_type  \\\n",
       "240615  宝宝八个月了早上，建议只吃蛋黄不要吃蛋清。此时宝宝的消化酶已经可以充分消化蛋白质了，所需蛋白...           1.0   \n",
       "\n",
       "        shorten_p_len  \n",
       "240615             38  "
      ]
     },
     "execution_count": 112,
     "metadata": {},
     "output_type": "execute_result"
    }
   ],
   "source": [
    "d = df.sample()\n",
    "d"
   ]
  },
  {
   "cell_type": "code",
   "execution_count": 113,
   "metadata": {},
   "outputs": [
    {
     "data": {
      "text/plain": [
       "'宝宝八个月了早上，建议只吃蛋黄不要吃蛋清。此时宝宝的消化酶已经可以充分消化蛋白质了，所需蛋白质含量为每千克体重每天需要2.3g。'"
      ]
     },
     "execution_count": 113,
     "metadata": {},
     "output_type": "execute_result"
    }
   ],
   "source": [
    "d.passage.values[0]"
   ]
  },
  {
   "cell_type": "code",
   "execution_count": 114,
   "metadata": {},
   "outputs": [
    {
     "data": {
      "text/plain": [
       "'宝宝八个月了早上，建议只吃蛋黄不要吃蛋清。此时宝宝的消化酶已经可以充分消化蛋白质了，所需蛋白质含量为每千克体重每天需要2.3g。'"
      ]
     },
     "execution_count": 114,
     "metadata": {},
     "output_type": "execute_result"
    }
   ],
   "source": [
    "d.shorten_p.values[0]"
   ]
  },
  {
   "cell_type": "code",
   "execution_count": 115,
   "metadata": {},
   "outputs": [
    {
     "data": {
      "text/plain": [
       "'宝宝八个半月了早上吃炖鸡蛋好吗'"
      ]
     },
     "execution_count": 115,
     "metadata": {},
     "output_type": "execute_result"
    }
   ],
   "source": [
    "d['query'].values[0]"
   ]
  },
  {
   "cell_type": "code",
   "execution_count": null,
   "metadata": {
    "collapsed": true
   },
   "outputs": [],
   "source": []
  },
  {
   "cell_type": "code",
   "execution_count": null,
   "metadata": {
    "collapsed": true
   },
   "outputs": [],
   "source": []
  },
  {
   "cell_type": "code",
   "execution_count": null,
   "metadata": {
    "collapsed": true
   },
   "outputs": [],
   "source": []
  },
  {
   "cell_type": "code",
   "execution_count": null,
   "metadata": {
    "collapsed": true
   },
   "outputs": [],
   "source": []
  },
  {
   "cell_type": "code",
   "execution_count": null,
   "metadata": {
    "collapsed": true
   },
   "outputs": [],
   "source": []
  },
  {
   "cell_type": "code",
   "execution_count": null,
   "metadata": {
    "collapsed": true
   },
   "outputs": [],
   "source": []
  },
  {
   "cell_type": "code",
   "execution_count": null,
   "metadata": {
    "collapsed": true
   },
   "outputs": [],
   "source": []
  },
  {
   "cell_type": "code",
   "execution_count": null,
   "metadata": {
    "collapsed": true
   },
   "outputs": [],
   "source": []
  }
 ],
 "metadata": {
  "kernelspec": {
   "display_name": "Python 3",
   "language": "python",
   "name": "python3"
  },
  "language_info": {
   "codemirror_mode": {
    "name": "ipython",
    "version": 3
   },
   "file_extension": ".py",
   "mimetype": "text/x-python",
   "name": "python",
   "nbconvert_exporter": "python",
   "pygments_lexer": "ipython3",
   "version": "3.6.2"
  }
 },
 "nbformat": 4,
 "nbformat_minor": 2
}
